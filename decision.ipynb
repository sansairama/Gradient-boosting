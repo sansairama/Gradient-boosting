{
 "cells": [
  {
   "cell_type": "code",
   "execution_count": 94,
   "metadata": {},
   "outputs": [],
   "source": [
    "import pandas as pd\n",
    "import numpy as np\n"
   ]
  },
  {
   "cell_type": "code",
   "execution_count": 95,
   "metadata": {},
   "outputs": [],
   "source": [
    "credit=pd.read_csv(\"C:/Users/shash/Desktop/credit.csv\")"
   ]
  },
  {
   "cell_type": "code",
   "execution_count": 96,
   "metadata": {},
   "outputs": [
    {
     "data": {
      "text/html": [
       "<div>\n",
       "<style scoped>\n",
       "    .dataframe tbody tr th:only-of-type {\n",
       "        vertical-align: middle;\n",
       "    }\n",
       "\n",
       "    .dataframe tbody tr th {\n",
       "        vertical-align: top;\n",
       "    }\n",
       "\n",
       "    .dataframe thead th {\n",
       "        text-align: right;\n",
       "    }\n",
       "</style>\n",
       "<table border=\"1\" class=\"dataframe\">\n",
       "  <thead>\n",
       "    <tr style=\"text-align: right;\">\n",
       "      <th></th>\n",
       "      <th>count</th>\n",
       "      <th>mean</th>\n",
       "      <th>std</th>\n",
       "      <th>min</th>\n",
       "      <th>25%</th>\n",
       "      <th>50%</th>\n",
       "      <th>75%</th>\n",
       "      <th>max</th>\n",
       "    </tr>\n",
       "  </thead>\n",
       "  <tbody>\n",
       "    <tr>\n",
       "      <th>months_loan_duration</th>\n",
       "      <td>1000.0</td>\n",
       "      <td>20.903</td>\n",
       "      <td>12.058814</td>\n",
       "      <td>4.0</td>\n",
       "      <td>12.0</td>\n",
       "      <td>18.0</td>\n",
       "      <td>24.00</td>\n",
       "      <td>72.0</td>\n",
       "    </tr>\n",
       "    <tr>\n",
       "      <th>amount</th>\n",
       "      <td>1000.0</td>\n",
       "      <td>3271.258</td>\n",
       "      <td>2822.736876</td>\n",
       "      <td>250.0</td>\n",
       "      <td>1365.5</td>\n",
       "      <td>2319.5</td>\n",
       "      <td>3972.25</td>\n",
       "      <td>18424.0</td>\n",
       "    </tr>\n",
       "    <tr>\n",
       "      <th>percent_of_income</th>\n",
       "      <td>1000.0</td>\n",
       "      <td>2.973</td>\n",
       "      <td>1.118715</td>\n",
       "      <td>1.0</td>\n",
       "      <td>2.0</td>\n",
       "      <td>3.0</td>\n",
       "      <td>4.00</td>\n",
       "      <td>4.0</td>\n",
       "    </tr>\n",
       "    <tr>\n",
       "      <th>years_at_residence</th>\n",
       "      <td>1000.0</td>\n",
       "      <td>2.845</td>\n",
       "      <td>1.103718</td>\n",
       "      <td>1.0</td>\n",
       "      <td>2.0</td>\n",
       "      <td>3.0</td>\n",
       "      <td>4.00</td>\n",
       "      <td>4.0</td>\n",
       "    </tr>\n",
       "    <tr>\n",
       "      <th>age</th>\n",
       "      <td>1000.0</td>\n",
       "      <td>35.546</td>\n",
       "      <td>11.375469</td>\n",
       "      <td>19.0</td>\n",
       "      <td>27.0</td>\n",
       "      <td>33.0</td>\n",
       "      <td>42.00</td>\n",
       "      <td>75.0</td>\n",
       "    </tr>\n",
       "    <tr>\n",
       "      <th>existing_loans_count</th>\n",
       "      <td>1000.0</td>\n",
       "      <td>1.407</td>\n",
       "      <td>0.577654</td>\n",
       "      <td>1.0</td>\n",
       "      <td>1.0</td>\n",
       "      <td>1.0</td>\n",
       "      <td>2.00</td>\n",
       "      <td>4.0</td>\n",
       "    </tr>\n",
       "    <tr>\n",
       "      <th>dependents</th>\n",
       "      <td>1000.0</td>\n",
       "      <td>1.155</td>\n",
       "      <td>0.362086</td>\n",
       "      <td>1.0</td>\n",
       "      <td>1.0</td>\n",
       "      <td>1.0</td>\n",
       "      <td>1.00</td>\n",
       "      <td>2.0</td>\n",
       "    </tr>\n",
       "  </tbody>\n",
       "</table>\n",
       "</div>"
      ],
      "text/plain": [
       "                       count      mean          std    min     25%     50%  \\\n",
       "months_loan_duration  1000.0    20.903    12.058814    4.0    12.0    18.0   \n",
       "amount                1000.0  3271.258  2822.736876  250.0  1365.5  2319.5   \n",
       "percent_of_income     1000.0     2.973     1.118715    1.0     2.0     3.0   \n",
       "years_at_residence    1000.0     2.845     1.103718    1.0     2.0     3.0   \n",
       "age                   1000.0    35.546    11.375469   19.0    27.0    33.0   \n",
       "existing_loans_count  1000.0     1.407     0.577654    1.0     1.0     1.0   \n",
       "dependents            1000.0     1.155     0.362086    1.0     1.0     1.0   \n",
       "\n",
       "                          75%      max  \n",
       "months_loan_duration    24.00     72.0  \n",
       "amount                3972.25  18424.0  \n",
       "percent_of_income        4.00      4.0  \n",
       "years_at_residence       4.00      4.0  \n",
       "age                     42.00     75.0  \n",
       "existing_loans_count     2.00      4.0  \n",
       "dependents               1.00      2.0  "
      ]
     },
     "execution_count": 96,
     "metadata": {},
     "output_type": "execute_result"
    }
   ],
   "source": [
    "credit.describe().transpose()"
   ]
  },
  {
   "cell_type": "code",
   "execution_count": 97,
   "metadata": {},
   "outputs": [
    {
     "data": {
      "text/plain": [
       "checking_balance        object\n",
       "months_loan_duration     int64\n",
       "credit_history          object\n",
       "purpose                 object\n",
       "amount                   int64\n",
       "savings_balance         object\n",
       "employment_duration     object\n",
       "percent_of_income        int64\n",
       "years_at_residence       int64\n",
       "age                      int64\n",
       "other_credit            object\n",
       "housing                 object\n",
       "existing_loans_count     int64\n",
       "job                     object\n",
       "dependents               int64\n",
       "phone                   object\n",
       "default                 object\n",
       "dtype: object"
      ]
     },
     "execution_count": 97,
     "metadata": {},
     "output_type": "execute_result"
    }
   ],
   "source": [
    "credit.dtypes"
   ]
  },
  {
   "cell_type": "code",
   "execution_count": 98,
   "metadata": {},
   "outputs": [
    {
     "data": {
      "text/html": [
       "<div>\n",
       "<style scoped>\n",
       "    .dataframe tbody tr th:only-of-type {\n",
       "        vertical-align: middle;\n",
       "    }\n",
       "\n",
       "    .dataframe tbody tr th {\n",
       "        vertical-align: top;\n",
       "    }\n",
       "\n",
       "    .dataframe thead th {\n",
       "        text-align: right;\n",
       "    }\n",
       "</style>\n",
       "<table border=\"1\" class=\"dataframe\">\n",
       "  <thead>\n",
       "    <tr style=\"text-align: right;\">\n",
       "      <th></th>\n",
       "      <th>checking_balance</th>\n",
       "      <th>months_loan_duration</th>\n",
       "      <th>credit_history</th>\n",
       "      <th>purpose</th>\n",
       "      <th>amount</th>\n",
       "      <th>savings_balance</th>\n",
       "      <th>employment_duration</th>\n",
       "      <th>percent_of_income</th>\n",
       "      <th>years_at_residence</th>\n",
       "      <th>age</th>\n",
       "      <th>other_credit</th>\n",
       "      <th>housing</th>\n",
       "      <th>existing_loans_count</th>\n",
       "      <th>job</th>\n",
       "      <th>dependents</th>\n",
       "      <th>phone</th>\n",
       "      <th>default</th>\n",
       "    </tr>\n",
       "  </thead>\n",
       "  <tbody>\n",
       "    <tr>\n",
       "      <th>0</th>\n",
       "      <td>&lt; 0 DM</td>\n",
       "      <td>6</td>\n",
       "      <td>critical</td>\n",
       "      <td>furniture/appliances</td>\n",
       "      <td>1169</td>\n",
       "      <td>unknown</td>\n",
       "      <td>&gt; 7 years</td>\n",
       "      <td>4</td>\n",
       "      <td>4</td>\n",
       "      <td>67</td>\n",
       "      <td>none</td>\n",
       "      <td>own</td>\n",
       "      <td>2</td>\n",
       "      <td>skilled</td>\n",
       "      <td>1</td>\n",
       "      <td>yes</td>\n",
       "      <td>no</td>\n",
       "    </tr>\n",
       "    <tr>\n",
       "      <th>1</th>\n",
       "      <td>1 - 200 DM</td>\n",
       "      <td>48</td>\n",
       "      <td>good</td>\n",
       "      <td>furniture/appliances</td>\n",
       "      <td>5951</td>\n",
       "      <td>&lt; 100 DM</td>\n",
       "      <td>1 - 4 years</td>\n",
       "      <td>2</td>\n",
       "      <td>2</td>\n",
       "      <td>22</td>\n",
       "      <td>none</td>\n",
       "      <td>own</td>\n",
       "      <td>1</td>\n",
       "      <td>skilled</td>\n",
       "      <td>1</td>\n",
       "      <td>no</td>\n",
       "      <td>yes</td>\n",
       "    </tr>\n",
       "    <tr>\n",
       "      <th>2</th>\n",
       "      <td>unknown</td>\n",
       "      <td>12</td>\n",
       "      <td>critical</td>\n",
       "      <td>education</td>\n",
       "      <td>2096</td>\n",
       "      <td>&lt; 100 DM</td>\n",
       "      <td>4 - 7 years</td>\n",
       "      <td>2</td>\n",
       "      <td>3</td>\n",
       "      <td>49</td>\n",
       "      <td>none</td>\n",
       "      <td>own</td>\n",
       "      <td>1</td>\n",
       "      <td>unskilled</td>\n",
       "      <td>2</td>\n",
       "      <td>no</td>\n",
       "      <td>no</td>\n",
       "    </tr>\n",
       "    <tr>\n",
       "      <th>3</th>\n",
       "      <td>&lt; 0 DM</td>\n",
       "      <td>42</td>\n",
       "      <td>good</td>\n",
       "      <td>furniture/appliances</td>\n",
       "      <td>7882</td>\n",
       "      <td>&lt; 100 DM</td>\n",
       "      <td>4 - 7 years</td>\n",
       "      <td>2</td>\n",
       "      <td>4</td>\n",
       "      <td>45</td>\n",
       "      <td>none</td>\n",
       "      <td>other</td>\n",
       "      <td>1</td>\n",
       "      <td>skilled</td>\n",
       "      <td>2</td>\n",
       "      <td>no</td>\n",
       "      <td>no</td>\n",
       "    </tr>\n",
       "    <tr>\n",
       "      <th>4</th>\n",
       "      <td>&lt; 0 DM</td>\n",
       "      <td>24</td>\n",
       "      <td>poor</td>\n",
       "      <td>car</td>\n",
       "      <td>4870</td>\n",
       "      <td>&lt; 100 DM</td>\n",
       "      <td>1 - 4 years</td>\n",
       "      <td>3</td>\n",
       "      <td>4</td>\n",
       "      <td>53</td>\n",
       "      <td>none</td>\n",
       "      <td>other</td>\n",
       "      <td>2</td>\n",
       "      <td>skilled</td>\n",
       "      <td>2</td>\n",
       "      <td>no</td>\n",
       "      <td>yes</td>\n",
       "    </tr>\n",
       "    <tr>\n",
       "      <th>...</th>\n",
       "      <td>...</td>\n",
       "      <td>...</td>\n",
       "      <td>...</td>\n",
       "      <td>...</td>\n",
       "      <td>...</td>\n",
       "      <td>...</td>\n",
       "      <td>...</td>\n",
       "      <td>...</td>\n",
       "      <td>...</td>\n",
       "      <td>...</td>\n",
       "      <td>...</td>\n",
       "      <td>...</td>\n",
       "      <td>...</td>\n",
       "      <td>...</td>\n",
       "      <td>...</td>\n",
       "      <td>...</td>\n",
       "      <td>...</td>\n",
       "    </tr>\n",
       "    <tr>\n",
       "      <th>95</th>\n",
       "      <td>1 - 200 DM</td>\n",
       "      <td>54</td>\n",
       "      <td>perfect</td>\n",
       "      <td>business</td>\n",
       "      <td>15945</td>\n",
       "      <td>&lt; 100 DM</td>\n",
       "      <td>&lt; 1 year</td>\n",
       "      <td>3</td>\n",
       "      <td>4</td>\n",
       "      <td>58</td>\n",
       "      <td>none</td>\n",
       "      <td>rent</td>\n",
       "      <td>1</td>\n",
       "      <td>skilled</td>\n",
       "      <td>1</td>\n",
       "      <td>yes</td>\n",
       "      <td>yes</td>\n",
       "    </tr>\n",
       "    <tr>\n",
       "      <th>96</th>\n",
       "      <td>unknown</td>\n",
       "      <td>12</td>\n",
       "      <td>critical</td>\n",
       "      <td>education</td>\n",
       "      <td>2012</td>\n",
       "      <td>unknown</td>\n",
       "      <td>4 - 7 years</td>\n",
       "      <td>4</td>\n",
       "      <td>2</td>\n",
       "      <td>61</td>\n",
       "      <td>none</td>\n",
       "      <td>own</td>\n",
       "      <td>1</td>\n",
       "      <td>skilled</td>\n",
       "      <td>1</td>\n",
       "      <td>no</td>\n",
       "      <td>no</td>\n",
       "    </tr>\n",
       "    <tr>\n",
       "      <th>97</th>\n",
       "      <td>1 - 200 DM</td>\n",
       "      <td>18</td>\n",
       "      <td>good</td>\n",
       "      <td>business</td>\n",
       "      <td>2622</td>\n",
       "      <td>100 - 500 DM</td>\n",
       "      <td>1 - 4 years</td>\n",
       "      <td>4</td>\n",
       "      <td>4</td>\n",
       "      <td>34</td>\n",
       "      <td>none</td>\n",
       "      <td>own</td>\n",
       "      <td>1</td>\n",
       "      <td>skilled</td>\n",
       "      <td>1</td>\n",
       "      <td>no</td>\n",
       "      <td>no</td>\n",
       "    </tr>\n",
       "    <tr>\n",
       "      <th>98</th>\n",
       "      <td>1 - 200 DM</td>\n",
       "      <td>36</td>\n",
       "      <td>critical</td>\n",
       "      <td>furniture/appliances</td>\n",
       "      <td>2337</td>\n",
       "      <td>&lt; 100 DM</td>\n",
       "      <td>&gt; 7 years</td>\n",
       "      <td>4</td>\n",
       "      <td>4</td>\n",
       "      <td>36</td>\n",
       "      <td>none</td>\n",
       "      <td>own</td>\n",
       "      <td>1</td>\n",
       "      <td>skilled</td>\n",
       "      <td>1</td>\n",
       "      <td>no</td>\n",
       "      <td>no</td>\n",
       "    </tr>\n",
       "    <tr>\n",
       "      <th>99</th>\n",
       "      <td>1 - 200 DM</td>\n",
       "      <td>20</td>\n",
       "      <td>poor</td>\n",
       "      <td>car</td>\n",
       "      <td>7057</td>\n",
       "      <td>unknown</td>\n",
       "      <td>4 - 7 years</td>\n",
       "      <td>3</td>\n",
       "      <td>4</td>\n",
       "      <td>36</td>\n",
       "      <td>bank</td>\n",
       "      <td>rent</td>\n",
       "      <td>2</td>\n",
       "      <td>management</td>\n",
       "      <td>2</td>\n",
       "      <td>yes</td>\n",
       "      <td>no</td>\n",
       "    </tr>\n",
       "  </tbody>\n",
       "</table>\n",
       "<p>100 rows × 17 columns</p>\n",
       "</div>"
      ],
      "text/plain": [
       "   checking_balance  months_loan_duration credit_history  \\\n",
       "0            < 0 DM                     6       critical   \n",
       "1        1 - 200 DM                    48           good   \n",
       "2           unknown                    12       critical   \n",
       "3            < 0 DM                    42           good   \n",
       "4            < 0 DM                    24           poor   \n",
       "..              ...                   ...            ...   \n",
       "95       1 - 200 DM                    54        perfect   \n",
       "96          unknown                    12       critical   \n",
       "97       1 - 200 DM                    18           good   \n",
       "98       1 - 200 DM                    36       critical   \n",
       "99       1 - 200 DM                    20           poor   \n",
       "\n",
       "                 purpose  amount savings_balance employment_duration  \\\n",
       "0   furniture/appliances    1169         unknown           > 7 years   \n",
       "1   furniture/appliances    5951        < 100 DM         1 - 4 years   \n",
       "2              education    2096        < 100 DM         4 - 7 years   \n",
       "3   furniture/appliances    7882        < 100 DM         4 - 7 years   \n",
       "4                    car    4870        < 100 DM         1 - 4 years   \n",
       "..                   ...     ...             ...                 ...   \n",
       "95              business   15945        < 100 DM            < 1 year   \n",
       "96             education    2012         unknown         4 - 7 years   \n",
       "97              business    2622    100 - 500 DM         1 - 4 years   \n",
       "98  furniture/appliances    2337        < 100 DM           > 7 years   \n",
       "99                   car    7057         unknown         4 - 7 years   \n",
       "\n",
       "    percent_of_income  years_at_residence  age other_credit housing  \\\n",
       "0                   4                   4   67         none     own   \n",
       "1                   2                   2   22         none     own   \n",
       "2                   2                   3   49         none     own   \n",
       "3                   2                   4   45         none   other   \n",
       "4                   3                   4   53         none   other   \n",
       "..                ...                 ...  ...          ...     ...   \n",
       "95                  3                   4   58         none    rent   \n",
       "96                  4                   2   61         none     own   \n",
       "97                  4                   4   34         none     own   \n",
       "98                  4                   4   36         none     own   \n",
       "99                  3                   4   36         bank    rent   \n",
       "\n",
       "    existing_loans_count         job  dependents phone default  \n",
       "0                      2     skilled           1   yes      no  \n",
       "1                      1     skilled           1    no     yes  \n",
       "2                      1   unskilled           2    no      no  \n",
       "3                      1     skilled           2    no      no  \n",
       "4                      2     skilled           2    no     yes  \n",
       "..                   ...         ...         ...   ...     ...  \n",
       "95                     1     skilled           1   yes     yes  \n",
       "96                     1     skilled           1    no      no  \n",
       "97                     1     skilled           1    no      no  \n",
       "98                     1     skilled           1    no      no  \n",
       "99                     2  management           2   yes      no  \n",
       "\n",
       "[100 rows x 17 columns]"
      ]
     },
     "execution_count": 98,
     "metadata": {},
     "output_type": "execute_result"
    }
   ],
   "source": [
    "credit.head(100)"
   ]
  },
  {
   "cell_type": "code",
   "execution_count": 99,
   "metadata": {},
   "outputs": [
    {
     "data": {
      "text/plain": [
       "array(['critical', 'good', 'critical', 'good', 'poor', 'good', 'good',\n",
       "       'good', 'good', 'critical', 'good', 'good', 'good', 'critical',\n",
       "       'good', 'good', 'critical', 'perfect', 'good', 'good', 'critical',\n",
       "       'good', 'critical', 'critical', 'critical', 'good', 'perfect',\n",
       "       'very good', 'good', 'poor', 'good', 'good', 'good', 'critical',\n",
       "       'good', 'critical', 'critical', 'good', 'good', 'good', 'good',\n",
       "       'good', 'poor', 'critical', 'critical', 'critical', 'good', 'good',\n",
       "       'critical', 'good', 'poor', 'poor', 'good', 'good', 'poor',\n",
       "       'very good', 'good', 'critical', 'good', 'critical', 'good',\n",
       "       'critical', 'perfect', 'perfect', 'good', 'good', 'good', 'good',\n",
       "       'good', 'good', 'good', 'critical', 'critical', 'critical', 'good',\n",
       "       'critical', 'good', 'poor', 'perfect', 'good', 'good', 'good',\n",
       "       'good', 'good', 'good', 'critical', 'critical', 'good', 'good',\n",
       "       'perfect', 'critical', 'critical', 'critical', 'critical', 'good',\n",
       "       'perfect', 'critical', 'good', 'critical', 'poor', 'good', 'good',\n",
       "       'poor', 'critical', 'good', 'critical', 'very good', 'good',\n",
       "       'good', 'good', 'poor', 'good', 'good', 'critical', 'good',\n",
       "       'critical', 'good', 'critical', 'critical', 'critical', 'good',\n",
       "       'critical', 'good', 'critical', 'good', 'critical', 'good', 'good',\n",
       "       'critical', 'critical', 'good', 'poor', 'good', 'good', 'good',\n",
       "       'critical', 'poor', 'good', 'critical', 'good', 'good', 'good',\n",
       "       'good', 'good', 'critical', 'very good', 'critical', 'critical',\n",
       "       'critical', 'critical', 'good', 'good', 'good', 'critical', 'poor',\n",
       "       'good', 'critical', 'very good', 'good', 'critical', 'critical',\n",
       "       'critical', 'good', 'good', 'good', 'good', 'good', 'good', 'good',\n",
       "       'critical', 'perfect', 'good', 'poor', 'good', 'poor', 'very good',\n",
       "       'good', 'critical', 'good', 'critical', 'poor', 'poor',\n",
       "       'very good', 'critical', 'critical', 'critical', 'very good',\n",
       "       'critical', 'good', 'perfect', 'good', 'perfect', 'good', 'good',\n",
       "       'good', 'critical', 'critical', 'good', 'good', 'poor', 'critical',\n",
       "       'good', 'poor', 'good', 'critical', 'critical', 'critical',\n",
       "       'critical', 'good', 'good', 'critical', 'good', 'perfect', 'poor',\n",
       "       'critical', 'critical', 'perfect', 'good', 'good', 'good', 'good',\n",
       "       'good', 'good', 'poor', 'good', 'perfect', 'good', 'good', 'good',\n",
       "       'good', 'good', 'good', 'good', 'good', 'critical', 'good', 'good',\n",
       "       'good', 'critical', 'good', 'good', 'good', 'perfect', 'critical',\n",
       "       'very good', 'good', 'critical', 'perfect', 'good', 'good',\n",
       "       'critical', 'good', 'good', 'poor', 'good', 'poor', 'critical',\n",
       "       'very good', 'good', 'critical', 'good', 'good', 'critical',\n",
       "       'critical', 'critical', 'good', 'critical', 'good', 'good', 'good',\n",
       "       'good', 'critical', 'very good', 'good', 'good', 'good',\n",
       "       'critical', 'good', 'good', 'good', 'critical', 'good',\n",
       "       'very good', 'critical', 'critical', 'good', 'good', 'poor',\n",
       "       'good', 'poor', 'good', 'good', 'critical', 'critical', 'critical',\n",
       "       'good', 'good', 'good', 'good', 'critical', 'good', 'perfect',\n",
       "       'critical', 'critical', 'critical', 'good', 'good', 'good', 'good',\n",
       "       'good', 'good', 'good', 'good', 'good', 'good', 'very good',\n",
       "       'good', 'good', 'critical', 'poor', 'critical', 'good', 'good',\n",
       "       'good', 'critical', 'critical', 'critical', 'good', 'good', 'good',\n",
       "       'critical', 'critical', 'good', 'critical', 'perfect', 'critical',\n",
       "       'good', 'good', 'good', 'good', 'critical', 'good', 'good', 'good',\n",
       "       'good', 'critical', 'critical', 'good', 'poor', 'critical', 'good',\n",
       "       'good', 'critical', 'perfect', 'good', 'good', 'critical', 'poor',\n",
       "       'good', 'good', 'good', 'good', 'poor', 'good', 'good', 'good',\n",
       "       'critical', 'good', 'good', 'good', 'good', 'critical', 'critical',\n",
       "       'critical', 'very good', 'very good', 'poor', 'poor', 'good',\n",
       "       'critical', 'good', 'good', 'good', 'good', 'poor', 'critical',\n",
       "       'good', 'critical', 'critical', 'good', 'good', 'good', 'good',\n",
       "       'critical', 'critical', 'poor', 'good', 'critical', 'good',\n",
       "       'critical', 'good', 'critical', 'poor', 'poor', 'poor', 'good',\n",
       "       'critical', 'good', 'good', 'critical', 'good', 'critical',\n",
       "       'critical', 'good', 'good', 'critical', 'good', 'poor', 'good',\n",
       "       'good', 'good', 'good', 'critical', 'poor', 'good', 'good',\n",
       "       'critical', 'critical', 'good', 'critical', 'good', 'good',\n",
       "       'critical', 'critical', 'good', 'good', 'good', 'critical',\n",
       "       'critical', 'very good', 'good', 'good', 'poor', 'good',\n",
       "       'critical', 'critical', 'good', 'good', 'good', 'poor', 'critical',\n",
       "       'good', 'perfect', 'good', 'good', 'good', 'critical', 'good',\n",
       "       'good', 'good', 'good', 'good', 'good', 'good', 'good', 'good',\n",
       "       'poor', 'poor', 'poor', 'poor', 'good', 'good', 'good', 'good',\n",
       "       'critical', 'perfect', 'good', 'good', 'good', 'critical',\n",
       "       'critical', 'good', 'good', 'poor', 'critical', 'poor', 'good',\n",
       "       'good', 'good', 'good', 'critical', 'perfect', 'critical', 'good',\n",
       "       'critical', 'good', 'good', 'critical', 'good', 'critical', 'good',\n",
       "       'good', 'good', 'critical', 'good', 'good', 'critical',\n",
       "       'very good', 'good', 'good', 'good', 'good', 'good', 'poor',\n",
       "       'good', 'critical', 'critical', 'critical', 'good', 'critical',\n",
       "       'critical', 'good', 'perfect', 'good', 'good', 'good', 'critical',\n",
       "       'critical', 'good', 'good', 'good', 'good', 'poor', 'good', 'good',\n",
       "       'critical', 'good', 'critical', 'good', 'good', 'good', 'poor',\n",
       "       'good', 'good', 'critical', 'poor', 'critical', 'good',\n",
       "       'very good', 'critical', 'critical', 'very good', 'good',\n",
       "       'critical', 'good', 'good', 'perfect', 'perfect', 'very good',\n",
       "       'critical', 'good', 'very good', 'poor', 'good', 'poor', 'poor',\n",
       "       'good', 'critical', 'good', 'good', 'good', 'critical', 'good',\n",
       "       'good', 'good', 'critical', 'good', 'critical', 'critical', 'good',\n",
       "       'critical', 'critical', 'good', 'good', 'good', 'good', 'critical',\n",
       "       'good', 'good', 'critical', 'critical', 'poor', 'good', 'good',\n",
       "       'very good', 'very good', 'good', 'perfect', 'critical', 'poor',\n",
       "       'good', 'good', 'very good', 'good', 'good', 'very good',\n",
       "       'critical', 'good', 'good', 'good', 'good', 'good', 'good',\n",
       "       'very good', 'poor', 'perfect', 'poor', 'critical', 'good', 'good',\n",
       "       'critical', 'critical', 'good', 'good', 'good', 'good', 'good',\n",
       "       'very good', 'critical', 'good', 'good', 'very good', 'good',\n",
       "       'good', 'good', 'good', 'good', 'poor', 'good', 'poor', 'good',\n",
       "       'good', 'good', 'critical', 'critical', 'poor', 'perfect', 'good',\n",
       "       'good', 'good', 'good', 'good', 'good', 'poor', 'critical', 'good',\n",
       "       'good', 'good', 'perfect', 'critical', 'good', 'good', 'good',\n",
       "       'poor', 'critical', 'critical', 'very good', 'very good',\n",
       "       'critical', 'critical', 'critical', 'good', 'good', 'critical',\n",
       "       'poor', 'critical', 'critical', 'good', 'good', 'good', 'good',\n",
       "       'good', 'poor', 'critical', 'poor', 'good', 'critical', 'poor',\n",
       "       'good', 'good', 'critical', 'good', 'good', 'critical', 'good',\n",
       "       'good', 'good', 'critical', 'critical', 'good', 'good', 'critical',\n",
       "       'good', 'poor', 'good', 'good', 'good', 'perfect', 'good', 'good',\n",
       "       'critical', 'very good', 'good', 'critical', 'good', 'critical',\n",
       "       'critical', 'good', 'critical', 'perfect', 'perfect', 'very good',\n",
       "       'good', 'good', 'good', 'critical', 'critical', 'good',\n",
       "       'very good', 'critical', 'poor', 'good', 'good', 'good',\n",
       "       'critical', 'very good', 'good', 'good', 'critical', 'perfect',\n",
       "       'very good', 'very good', 'good', 'very good', 'critical',\n",
       "       'critical', 'good', 'good', 'good', 'good', 'good', 'good', 'good',\n",
       "       'critical', 'poor', 'good', 'critical', 'critical', 'good',\n",
       "       'critical', 'critical', 'critical', 'good', 'critical', 'critical',\n",
       "       'good', 'good', 'good', 'critical', 'critical', 'good', 'critical',\n",
       "       'critical', 'critical', 'critical', 'good', 'critical', 'good',\n",
       "       'critical', 'good', 'critical', 'critical', 'perfect', 'good',\n",
       "       'good', 'good', 'good', 'critical', 'poor', 'critical', 'good',\n",
       "       'good', 'critical', 'good', 'good', 'good', 'good', 'critical',\n",
       "       'poor', 'good', 'critical', 'critical', 'critical', 'critical',\n",
       "       'good', 'good', 'good', 'critical', 'very good', 'perfect', 'good',\n",
       "       'good', 'critical', 'good', 'good', 'poor', 'good', 'critical',\n",
       "       'good', 'good', 'good', 'good', 'good', 'critical', 'critical',\n",
       "       'critical', 'critical', 'perfect', 'good', 'poor', 'poor', 'good',\n",
       "       'perfect', 'good', 'good', 'perfect', 'good', 'good', 'critical',\n",
       "       'critical', 'good', 'poor', 'good', 'very good', 'good', 'good',\n",
       "       'good', 'good', 'good', 'good', 'critical', 'critical', 'critical',\n",
       "       'very good', 'poor', 'good', 'good', 'critical', 'good', 'good',\n",
       "       'critical', 'poor', 'good', 'critical', 'good', 'good', 'good',\n",
       "       'critical', 'good', 'good', 'poor', 'critical', 'critical', 'good',\n",
       "       'good', 'critical', 'very good', 'good', 'good', 'critical',\n",
       "       'good', 'good', 'critical', 'critical', 'good', 'good', 'critical',\n",
       "       'good', 'critical', 'very good', 'critical', 'critical',\n",
       "       'critical', 'critical', 'critical', 'poor', 'good', 'critical',\n",
       "       'good', 'good', 'critical', 'critical', 'critical', 'good', 'good',\n",
       "       'good', 'good', 'good', 'poor', 'good', 'poor', 'critical', 'good',\n",
       "       'good', 'very good', 'perfect', 'good', 'good', 'good', 'good',\n",
       "       'critical', 'poor', 'good', 'good', 'very good', 'very good',\n",
       "       'critical', 'good', 'good', 'poor', 'good', 'good', 'critical',\n",
       "       'critical', 'good', 'poor', 'good', 'good', 'good', 'critical',\n",
       "       'good', 'good', 'good', 'critical', 'good', 'perfect', 'very good',\n",
       "       'good', 'good', 'good', 'critical', 'poor', 'good', 'good', 'good',\n",
       "       'critical', 'critical', 'critical', 'good', 'good', 'critical',\n",
       "       'poor', 'good', 'good', 'good', 'good', 'critical', 'good', 'good',\n",
       "       'critical', 'good', 'good', 'very good', 'good', 'critical',\n",
       "       'good', 'good', 'poor', 'poor', 'very good', 'critical', 'good',\n",
       "       'good', 'good', 'critical', 'critical', 'perfect', 'good', 'good',\n",
       "       'critical', 'critical', 'very good', 'good', 'good', 'good',\n",
       "       'good', 'good', 'good', 'good', 'critical'], dtype=object)"
      ]
     },
     "execution_count": 99,
     "metadata": {},
     "output_type": "execute_result"
    }
   ],
   "source": [
    "credit['credit_history'].values"
   ]
  },
  {
   "cell_type": "code",
   "execution_count": 100,
   "metadata": {},
   "outputs": [],
   "source": [
    "history={'critical':0,'poor':1,'good':2,'very good':3,'perfect':4}"
   ]
  },
  {
   "cell_type": "code",
   "execution_count": 101,
   "metadata": {},
   "outputs": [],
   "source": [
    "credit[\"credit_history\"]=credit[\"credit_history\"].map(history)"
   ]
  },
  {
   "cell_type": "code",
   "execution_count": 102,
   "metadata": {},
   "outputs": [
    {
     "data": {
      "text/html": [
       "<div>\n",
       "<style scoped>\n",
       "    .dataframe tbody tr th:only-of-type {\n",
       "        vertical-align: middle;\n",
       "    }\n",
       "\n",
       "    .dataframe tbody tr th {\n",
       "        vertical-align: top;\n",
       "    }\n",
       "\n",
       "    .dataframe thead th {\n",
       "        text-align: right;\n",
       "    }\n",
       "</style>\n",
       "<table border=\"1\" class=\"dataframe\">\n",
       "  <thead>\n",
       "    <tr style=\"text-align: right;\">\n",
       "      <th></th>\n",
       "      <th>checking_balance</th>\n",
       "      <th>months_loan_duration</th>\n",
       "      <th>credit_history</th>\n",
       "      <th>purpose</th>\n",
       "      <th>amount</th>\n",
       "      <th>savings_balance</th>\n",
       "      <th>employment_duration</th>\n",
       "      <th>percent_of_income</th>\n",
       "      <th>years_at_residence</th>\n",
       "      <th>age</th>\n",
       "      <th>other_credit</th>\n",
       "      <th>housing</th>\n",
       "      <th>existing_loans_count</th>\n",
       "      <th>job</th>\n",
       "      <th>dependents</th>\n",
       "      <th>phone</th>\n",
       "      <th>default</th>\n",
       "    </tr>\n",
       "  </thead>\n",
       "  <tbody>\n",
       "    <tr>\n",
       "      <th>0</th>\n",
       "      <td>&lt; 0 DM</td>\n",
       "      <td>6</td>\n",
       "      <td>0</td>\n",
       "      <td>furniture/appliances</td>\n",
       "      <td>1169</td>\n",
       "      <td>unknown</td>\n",
       "      <td>&gt; 7 years</td>\n",
       "      <td>4</td>\n",
       "      <td>4</td>\n",
       "      <td>67</td>\n",
       "      <td>none</td>\n",
       "      <td>own</td>\n",
       "      <td>2</td>\n",
       "      <td>skilled</td>\n",
       "      <td>1</td>\n",
       "      <td>yes</td>\n",
       "      <td>no</td>\n",
       "    </tr>\n",
       "    <tr>\n",
       "      <th>1</th>\n",
       "      <td>1 - 200 DM</td>\n",
       "      <td>48</td>\n",
       "      <td>2</td>\n",
       "      <td>furniture/appliances</td>\n",
       "      <td>5951</td>\n",
       "      <td>&lt; 100 DM</td>\n",
       "      <td>1 - 4 years</td>\n",
       "      <td>2</td>\n",
       "      <td>2</td>\n",
       "      <td>22</td>\n",
       "      <td>none</td>\n",
       "      <td>own</td>\n",
       "      <td>1</td>\n",
       "      <td>skilled</td>\n",
       "      <td>1</td>\n",
       "      <td>no</td>\n",
       "      <td>yes</td>\n",
       "    </tr>\n",
       "    <tr>\n",
       "      <th>2</th>\n",
       "      <td>unknown</td>\n",
       "      <td>12</td>\n",
       "      <td>0</td>\n",
       "      <td>education</td>\n",
       "      <td>2096</td>\n",
       "      <td>&lt; 100 DM</td>\n",
       "      <td>4 - 7 years</td>\n",
       "      <td>2</td>\n",
       "      <td>3</td>\n",
       "      <td>49</td>\n",
       "      <td>none</td>\n",
       "      <td>own</td>\n",
       "      <td>1</td>\n",
       "      <td>unskilled</td>\n",
       "      <td>2</td>\n",
       "      <td>no</td>\n",
       "      <td>no</td>\n",
       "    </tr>\n",
       "    <tr>\n",
       "      <th>3</th>\n",
       "      <td>&lt; 0 DM</td>\n",
       "      <td>42</td>\n",
       "      <td>2</td>\n",
       "      <td>furniture/appliances</td>\n",
       "      <td>7882</td>\n",
       "      <td>&lt; 100 DM</td>\n",
       "      <td>4 - 7 years</td>\n",
       "      <td>2</td>\n",
       "      <td>4</td>\n",
       "      <td>45</td>\n",
       "      <td>none</td>\n",
       "      <td>other</td>\n",
       "      <td>1</td>\n",
       "      <td>skilled</td>\n",
       "      <td>2</td>\n",
       "      <td>no</td>\n",
       "      <td>no</td>\n",
       "    </tr>\n",
       "    <tr>\n",
       "      <th>4</th>\n",
       "      <td>&lt; 0 DM</td>\n",
       "      <td>24</td>\n",
       "      <td>1</td>\n",
       "      <td>car</td>\n",
       "      <td>4870</td>\n",
       "      <td>&lt; 100 DM</td>\n",
       "      <td>1 - 4 years</td>\n",
       "      <td>3</td>\n",
       "      <td>4</td>\n",
       "      <td>53</td>\n",
       "      <td>none</td>\n",
       "      <td>other</td>\n",
       "      <td>2</td>\n",
       "      <td>skilled</td>\n",
       "      <td>2</td>\n",
       "      <td>no</td>\n",
       "      <td>yes</td>\n",
       "    </tr>\n",
       "  </tbody>\n",
       "</table>\n",
       "</div>"
      ],
      "text/plain": [
       "  checking_balance  months_loan_duration  credit_history  \\\n",
       "0           < 0 DM                     6               0   \n",
       "1       1 - 200 DM                    48               2   \n",
       "2          unknown                    12               0   \n",
       "3           < 0 DM                    42               2   \n",
       "4           < 0 DM                    24               1   \n",
       "\n",
       "                purpose  amount savings_balance employment_duration  \\\n",
       "0  furniture/appliances    1169         unknown           > 7 years   \n",
       "1  furniture/appliances    5951        < 100 DM         1 - 4 years   \n",
       "2             education    2096        < 100 DM         4 - 7 years   \n",
       "3  furniture/appliances    7882        < 100 DM         4 - 7 years   \n",
       "4                   car    4870        < 100 DM         1 - 4 years   \n",
       "\n",
       "   percent_of_income  years_at_residence  age other_credit housing  \\\n",
       "0                  4                   4   67         none     own   \n",
       "1                  2                   2   22         none     own   \n",
       "2                  2                   3   49         none     own   \n",
       "3                  2                   4   45         none   other   \n",
       "4                  3                   4   53         none   other   \n",
       "\n",
       "   existing_loans_count        job  dependents phone default  \n",
       "0                     2    skilled           1   yes      no  \n",
       "1                     1    skilled           1    no     yes  \n",
       "2                     1  unskilled           2    no      no  \n",
       "3                     1    skilled           2    no      no  \n",
       "4                     2    skilled           2    no     yes  "
      ]
     },
     "execution_count": 102,
     "metadata": {},
     "output_type": "execute_result"
    }
   ],
   "source": [
    "credit.head()"
   ]
  },
  {
   "cell_type": "code",
   "execution_count": 103,
   "metadata": {},
   "outputs": [],
   "source": [
    "for features in credit.columns:\n",
    "    if credit[features].dtype == 'object':\n",
    "        credit[features]=pd.Categorical(credit[features]).codes"
   ]
  },
  {
   "cell_type": "code",
   "execution_count": 104,
   "metadata": {},
   "outputs": [
    {
     "data": {
      "text/plain": [
       "checking_balance         int8\n",
       "months_loan_duration    int64\n",
       "credit_history          int64\n",
       "purpose                  int8\n",
       "amount                  int64\n",
       "savings_balance          int8\n",
       "employment_duration      int8\n",
       "percent_of_income       int64\n",
       "years_at_residence      int64\n",
       "age                     int64\n",
       "other_credit             int8\n",
       "housing                  int8\n",
       "existing_loans_count    int64\n",
       "job                      int8\n",
       "dependents              int64\n",
       "phone                    int8\n",
       "default                  int8\n",
       "dtype: object"
      ]
     },
     "execution_count": 104,
     "metadata": {},
     "output_type": "execute_result"
    }
   ],
   "source": [
    "credit.dtypes"
   ]
  },
  {
   "cell_type": "code",
   "execution_count": 105,
   "metadata": {},
   "outputs": [
    {
     "data": {
      "text/html": [
       "<div>\n",
       "<style scoped>\n",
       "    .dataframe tbody tr th:only-of-type {\n",
       "        vertical-align: middle;\n",
       "    }\n",
       "\n",
       "    .dataframe tbody tr th {\n",
       "        vertical-align: top;\n",
       "    }\n",
       "\n",
       "    .dataframe thead th {\n",
       "        text-align: right;\n",
       "    }\n",
       "</style>\n",
       "<table border=\"1\" class=\"dataframe\">\n",
       "  <thead>\n",
       "    <tr style=\"text-align: right;\">\n",
       "      <th></th>\n",
       "      <th>checking_balance</th>\n",
       "      <th>months_loan_duration</th>\n",
       "      <th>credit_history</th>\n",
       "      <th>purpose</th>\n",
       "      <th>amount</th>\n",
       "      <th>savings_balance</th>\n",
       "      <th>employment_duration</th>\n",
       "      <th>percent_of_income</th>\n",
       "      <th>years_at_residence</th>\n",
       "      <th>age</th>\n",
       "      <th>other_credit</th>\n",
       "      <th>housing</th>\n",
       "      <th>existing_loans_count</th>\n",
       "      <th>job</th>\n",
       "      <th>dependents</th>\n",
       "      <th>phone</th>\n",
       "      <th>default</th>\n",
       "    </tr>\n",
       "  </thead>\n",
       "  <tbody>\n",
       "    <tr>\n",
       "      <th>0</th>\n",
       "      <td>1</td>\n",
       "      <td>6</td>\n",
       "      <td>0</td>\n",
       "      <td>4</td>\n",
       "      <td>1169</td>\n",
       "      <td>4</td>\n",
       "      <td>3</td>\n",
       "      <td>4</td>\n",
       "      <td>4</td>\n",
       "      <td>67</td>\n",
       "      <td>1</td>\n",
       "      <td>1</td>\n",
       "      <td>2</td>\n",
       "      <td>1</td>\n",
       "      <td>1</td>\n",
       "      <td>1</td>\n",
       "      <td>0</td>\n",
       "    </tr>\n",
       "    <tr>\n",
       "      <th>1</th>\n",
       "      <td>0</td>\n",
       "      <td>48</td>\n",
       "      <td>2</td>\n",
       "      <td>4</td>\n",
       "      <td>5951</td>\n",
       "      <td>2</td>\n",
       "      <td>0</td>\n",
       "      <td>2</td>\n",
       "      <td>2</td>\n",
       "      <td>22</td>\n",
       "      <td>1</td>\n",
       "      <td>1</td>\n",
       "      <td>1</td>\n",
       "      <td>1</td>\n",
       "      <td>1</td>\n",
       "      <td>0</td>\n",
       "      <td>1</td>\n",
       "    </tr>\n",
       "    <tr>\n",
       "      <th>2</th>\n",
       "      <td>3</td>\n",
       "      <td>12</td>\n",
       "      <td>0</td>\n",
       "      <td>3</td>\n",
       "      <td>2096</td>\n",
       "      <td>2</td>\n",
       "      <td>1</td>\n",
       "      <td>2</td>\n",
       "      <td>3</td>\n",
       "      <td>49</td>\n",
       "      <td>1</td>\n",
       "      <td>1</td>\n",
       "      <td>1</td>\n",
       "      <td>3</td>\n",
       "      <td>2</td>\n",
       "      <td>0</td>\n",
       "      <td>0</td>\n",
       "    </tr>\n",
       "    <tr>\n",
       "      <th>3</th>\n",
       "      <td>1</td>\n",
       "      <td>42</td>\n",
       "      <td>2</td>\n",
       "      <td>4</td>\n",
       "      <td>7882</td>\n",
       "      <td>2</td>\n",
       "      <td>1</td>\n",
       "      <td>2</td>\n",
       "      <td>4</td>\n",
       "      <td>45</td>\n",
       "      <td>1</td>\n",
       "      <td>0</td>\n",
       "      <td>1</td>\n",
       "      <td>1</td>\n",
       "      <td>2</td>\n",
       "      <td>0</td>\n",
       "      <td>0</td>\n",
       "    </tr>\n",
       "    <tr>\n",
       "      <th>4</th>\n",
       "      <td>1</td>\n",
       "      <td>24</td>\n",
       "      <td>1</td>\n",
       "      <td>1</td>\n",
       "      <td>4870</td>\n",
       "      <td>2</td>\n",
       "      <td>0</td>\n",
       "      <td>3</td>\n",
       "      <td>4</td>\n",
       "      <td>53</td>\n",
       "      <td>1</td>\n",
       "      <td>0</td>\n",
       "      <td>2</td>\n",
       "      <td>1</td>\n",
       "      <td>2</td>\n",
       "      <td>0</td>\n",
       "      <td>1</td>\n",
       "    </tr>\n",
       "  </tbody>\n",
       "</table>\n",
       "</div>"
      ],
      "text/plain": [
       "   checking_balance  months_loan_duration  credit_history  purpose  amount  \\\n",
       "0                 1                     6               0        4    1169   \n",
       "1                 0                    48               2        4    5951   \n",
       "2                 3                    12               0        3    2096   \n",
       "3                 1                    42               2        4    7882   \n",
       "4                 1                    24               1        1    4870   \n",
       "\n",
       "   savings_balance  employment_duration  percent_of_income  \\\n",
       "0                4                    3                  4   \n",
       "1                2                    0                  2   \n",
       "2                2                    1                  2   \n",
       "3                2                    1                  2   \n",
       "4                2                    0                  3   \n",
       "\n",
       "   years_at_residence  age  other_credit  housing  existing_loans_count  job  \\\n",
       "0                   4   67             1        1                     2    1   \n",
       "1                   2   22             1        1                     1    1   \n",
       "2                   3   49             1        1                     1    3   \n",
       "3                   4   45             1        0                     1    1   \n",
       "4                   4   53             1        0                     2    1   \n",
       "\n",
       "   dependents  phone  default  \n",
       "0           1      1        0  \n",
       "1           1      0        1  \n",
       "2           2      0        0  \n",
       "3           2      0        0  \n",
       "4           2      0        1  "
      ]
     },
     "execution_count": 105,
     "metadata": {},
     "output_type": "execute_result"
    }
   ],
   "source": [
    "credit.head()"
   ]
  },
  {
   "cell_type": "code",
   "execution_count": 106,
   "metadata": {},
   "outputs": [],
   "source": [
    "X=credit.drop('default',axis=1)\n",
    "y=credit[[\"default\"]]"
   ]
  },
  {
   "cell_type": "code",
   "execution_count": 107,
   "metadata": {},
   "outputs": [],
   "source": [
    "from sklearn.model_selection import train_test_split"
   ]
  },
  {
   "cell_type": "code",
   "execution_count": 108,
   "metadata": {},
   "outputs": [],
   "source": [
    "x_train,x_test,y_train,y_test=train_test_split(X,y,test_size=0.2,random_state=1)"
   ]
  },
  {
   "cell_type": "code",
   "execution_count": 109,
   "metadata": {},
   "outputs": [],
   "source": [
    "from sklearn.tree import DecisionTreeClassifier"
   ]
  },
  {
   "cell_type": "code",
   "execution_count": 110,
   "metadata": {},
   "outputs": [],
   "source": [
    "dt=DecisionTreeClassifier(criterion = 'entropy' )"
   ]
  },
  {
   "cell_type": "code",
   "execution_count": 111,
   "metadata": {},
   "outputs": [
    {
     "data": {
      "text/plain": [
       "DecisionTreeClassifier(class_weight=None, criterion='entropy', max_depth=None,\n",
       "                       max_features=None, max_leaf_nodes=None,\n",
       "                       min_impurity_decrease=0.0, min_impurity_split=None,\n",
       "                       min_samples_leaf=1, min_samples_split=2,\n",
       "                       min_weight_fraction_leaf=0.0, presort=False,\n",
       "                       random_state=None, splitter='best')"
      ]
     },
     "execution_count": 111,
     "metadata": {},
     "output_type": "execute_result"
    }
   ],
   "source": [
    "dt.fit(x_train,y_train)"
   ]
  },
  {
   "cell_type": "code",
   "execution_count": 112,
   "metadata": {},
   "outputs": [
    {
     "data": {
      "text/plain": [
       "0.645"
      ]
     },
     "execution_count": 112,
     "metadata": {},
     "output_type": "execute_result"
    }
   ],
   "source": [
    "dt.score(x_train,y_train)\n",
    "dt.score(x_test,y_test)"
   ]
  },
  {
   "cell_type": "code",
   "execution_count": 113,
   "metadata": {},
   "outputs": [
    {
     "data": {
      "text/plain": [
       "1.0"
      ]
     },
     "execution_count": 113,
     "metadata": {},
     "output_type": "execute_result"
    }
   ],
   "source": [
    "dt.score(x_train,y_train)"
   ]
  },
  {
   "cell_type": "code",
   "execution_count": 114,
   "metadata": {},
   "outputs": [],
   "source": [
    "dt1=DecisionTreeClassifier(criterion='entropy',max_depth=4)"
   ]
  },
  {
   "cell_type": "code",
   "execution_count": 115,
   "metadata": {},
   "outputs": [
    {
     "data": {
      "text/plain": [
       "DecisionTreeClassifier(class_weight=None, criterion='entropy', max_depth=4,\n",
       "                       max_features=None, max_leaf_nodes=None,\n",
       "                       min_impurity_decrease=0.0, min_impurity_split=None,\n",
       "                       min_samples_leaf=1, min_samples_split=2,\n",
       "                       min_weight_fraction_leaf=0.0, presort=False,\n",
       "                       random_state=None, splitter='best')"
      ]
     },
     "execution_count": 115,
     "metadata": {},
     "output_type": "execute_result"
    }
   ],
   "source": [
    "dt1.fit(x_train,y_train)"
   ]
  },
  {
   "cell_type": "code",
   "execution_count": 116,
   "metadata": {},
   "outputs": [
    {
     "data": {
      "text/plain": [
       "0.72875"
      ]
     },
     "execution_count": 116,
     "metadata": {},
     "output_type": "execute_result"
    }
   ],
   "source": [
    "dt1.score(x_train,y_train)"
   ]
  },
  {
   "cell_type": "code",
   "execution_count": 117,
   "metadata": {},
   "outputs": [
    {
     "data": {
      "text/plain": [
       "0.71"
      ]
     },
     "execution_count": 117,
     "metadata": {},
     "output_type": "execute_result"
    }
   ],
   "source": [
    "dt1.score(x_test,y_test)"
   ]
  },
  {
   "cell_type": "code",
   "execution_count": 118,
   "metadata": {},
   "outputs": [],
   "source": [
    "y_predict = dt1.predict(x_test)"
   ]
  },
  {
   "cell_type": "code",
   "execution_count": 119,
   "metadata": {},
   "outputs": [],
   "source": [
    "from sklearn import metrics"
   ]
  },
  {
   "cell_type": "code",
   "execution_count": 120,
   "metadata": {},
   "outputs": [
    {
     "name": "stdout",
     "output_type": "stream",
     "text": [
      "[[104  37]\n",
      " [ 21  38]]\n"
     ]
    }
   ],
   "source": [
    "print(metrics.confusion_matrix(y_test,y_predict))#much better compared to other result"
   ]
  },
  {
   "cell_type": "code",
   "execution_count": 121,
   "metadata": {},
   "outputs": [],
   "source": [
    "from sklearn.ensemble import GradientBoostingClassifier"
   ]
  },
  {
   "cell_type": "code",
   "execution_count": 343,
   "metadata": {},
   "outputs": [],
   "source": [
    "gb=GradientBoostingClassifier(n_estimators=100,learning_rate=0.09,max_depth=4,random_state=1)"
   ]
  },
  {
   "cell_type": "code",
   "execution_count": 344,
   "metadata": {},
   "outputs": [
    {
     "name": "stderr",
     "output_type": "stream",
     "text": [
      "C:\\Users\\shash\\Anaconda3\\lib\\site-packages\\sklearn\\ensemble\\gradient_boosting.py:1450: DataConversionWarning: A column-vector y was passed when a 1d array was expected. Please change the shape of y to (n_samples, ), for example using ravel().\n",
      "  y = column_or_1d(y, warn=True)\n"
     ]
    }
   ],
   "source": [
    "gb=gb.fit(x_train,y_train)"
   ]
  },
  {
   "cell_type": "code",
   "execution_count": 345,
   "metadata": {},
   "outputs": [
    {
     "data": {
      "text/plain": [
       "0.78"
      ]
     },
     "execution_count": 345,
     "metadata": {},
     "output_type": "execute_result"
    }
   ],
   "source": [
    "gb.score(x_test,y_test)"
   ]
  },
  {
   "cell_type": "code",
   "execution_count": 346,
   "metadata": {},
   "outputs": [
    {
     "data": {
      "text/plain": [
       "0.9575"
      ]
     },
     "execution_count": 346,
     "metadata": {},
     "output_type": "execute_result"
    }
   ],
   "source": [
    "gb.score(x_train,y_train)"
   ]
  },
  {
   "cell_type": "code",
   "execution_count": 347,
   "metadata": {},
   "outputs": [],
   "source": [
    "y_preds=gb.predict(x_test)"
   ]
  },
  {
   "cell_type": "code",
   "execution_count": 348,
   "metadata": {},
   "outputs": [
    {
     "name": "stdout",
     "output_type": "stream",
     "text": [
      "[[123  18]\n",
      " [ 26  33]]\n"
     ]
    }
   ],
   "source": [
    "print(metrics.confusion_matrix(y_test,y_preds))"
   ]
  },
  {
   "cell_type": "code",
   "execution_count": null,
   "metadata": {},
   "outputs": [],
   "source": []
  },
  {
   "cell_type": "code",
   "execution_count": null,
   "metadata": {},
   "outputs": [],
   "source": []
  },
  {
   "cell_type": "code",
   "execution_count": null,
   "metadata": {},
   "outputs": [],
   "source": []
  },
  {
   "cell_type": "code",
   "execution_count": null,
   "metadata": {},
   "outputs": [],
   "source": []
  },
  {
   "cell_type": "code",
   "execution_count": null,
   "metadata": {},
   "outputs": [],
   "source": []
  },
  {
   "cell_type": "code",
   "execution_count": null,
   "metadata": {},
   "outputs": [],
   "source": []
  },
  {
   "cell_type": "code",
   "execution_count": null,
   "metadata": {},
   "outputs": [],
   "source": []
  },
  {
   "cell_type": "code",
   "execution_count": null,
   "metadata": {},
   "outputs": [],
   "source": []
  },
  {
   "cell_type": "code",
   "execution_count": null,
   "metadata": {},
   "outputs": [],
   "source": []
  },
  {
   "cell_type": "code",
   "execution_count": null,
   "metadata": {},
   "outputs": [],
   "source": []
  },
  {
   "cell_type": "code",
   "execution_count": null,
   "metadata": {},
   "outputs": [],
   "source": []
  },
  {
   "cell_type": "code",
   "execution_count": null,
   "metadata": {},
   "outputs": [],
   "source": []
  },
  {
   "cell_type": "code",
   "execution_count": null,
   "metadata": {},
   "outputs": [],
   "source": []
  },
  {
   "cell_type": "code",
   "execution_count": null,
   "metadata": {},
   "outputs": [],
   "source": []
  },
  {
   "cell_type": "code",
   "execution_count": null,
   "metadata": {},
   "outputs": [],
   "source": []
  },
  {
   "cell_type": "code",
   "execution_count": null,
   "metadata": {},
   "outputs": [],
   "source": []
  },
  {
   "cell_type": "code",
   "execution_count": null,
   "metadata": {},
   "outputs": [],
   "source": []
  },
  {
   "cell_type": "code",
   "execution_count": null,
   "metadata": {},
   "outputs": [],
   "source": []
  },
  {
   "cell_type": "code",
   "execution_count": null,
   "metadata": {},
   "outputs": [],
   "source": []
  },
  {
   "cell_type": "code",
   "execution_count": null,
   "metadata": {},
   "outputs": [],
   "source": []
  },
  {
   "cell_type": "code",
   "execution_count": null,
   "metadata": {},
   "outputs": [],
   "source": []
  },
  {
   "cell_type": "code",
   "execution_count": null,
   "metadata": {},
   "outputs": [],
   "source": []
  },
  {
   "cell_type": "code",
   "execution_count": null,
   "metadata": {},
   "outputs": [],
   "source": []
  },
  {
   "cell_type": "code",
   "execution_count": null,
   "metadata": {},
   "outputs": [],
   "source": []
  },
  {
   "cell_type": "code",
   "execution_count": null,
   "metadata": {},
   "outputs": [],
   "source": []
  },
  {
   "cell_type": "code",
   "execution_count": null,
   "metadata": {},
   "outputs": [],
   "source": []
  },
  {
   "cell_type": "code",
   "execution_count": null,
   "metadata": {},
   "outputs": [],
   "source": []
  },
  {
   "cell_type": "code",
   "execution_count": null,
   "metadata": {},
   "outputs": [],
   "source": []
  },
  {
   "cell_type": "code",
   "execution_count": null,
   "metadata": {},
   "outputs": [],
   "source": []
  },
  {
   "cell_type": "code",
   "execution_count": null,
   "metadata": {},
   "outputs": [],
   "source": []
  },
  {
   "cell_type": "code",
   "execution_count": null,
   "metadata": {},
   "outputs": [],
   "source": []
  },
  {
   "cell_type": "code",
   "execution_count": null,
   "metadata": {},
   "outputs": [],
   "source": []
  },
  {
   "cell_type": "code",
   "execution_count": null,
   "metadata": {},
   "outputs": [],
   "source": []
  },
  {
   "cell_type": "code",
   "execution_count": null,
   "metadata": {},
   "outputs": [],
   "source": []
  },
  {
   "cell_type": "code",
   "execution_count": null,
   "metadata": {},
   "outputs": [],
   "source": []
  },
  {
   "cell_type": "code",
   "execution_count": null,
   "metadata": {},
   "outputs": [],
   "source": []
  },
  {
   "cell_type": "code",
   "execution_count": null,
   "metadata": {},
   "outputs": [],
   "source": []
  },
  {
   "cell_type": "code",
   "execution_count": null,
   "metadata": {},
   "outputs": [],
   "source": []
  },
  {
   "cell_type": "code",
   "execution_count": null,
   "metadata": {},
   "outputs": [],
   "source": []
  },
  {
   "cell_type": "code",
   "execution_count": null,
   "metadata": {},
   "outputs": [],
   "source": []
  }
 ],
 "metadata": {
  "kernelspec": {
   "display_name": "Python 3",
   "language": "python",
   "name": "python3"
  },
  "language_info": {
   "codemirror_mode": {
    "name": "ipython",
    "version": 3
   },
   "file_extension": ".py",
   "mimetype": "text/x-python",
   "name": "python",
   "nbconvert_exporter": "python",
   "pygments_lexer": "ipython3",
   "version": "3.7.4"
  }
 },
 "nbformat": 4,
 "nbformat_minor": 2
}
